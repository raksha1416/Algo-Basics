{
 "cells": [
  {
   "cell_type": "code",
   "execution_count": 16,
   "id": "4270e996",
   "metadata": {},
   "outputs": [
    {
     "name": "stdout",
     "output_type": "stream",
     "text": [
      "Position: 1\n"
     ]
    }
   ],
   "source": [
    "#Linear Search\n",
    "import math\n",
    "arr = [2,8,7,5,23]\n",
    "ele = 8\n",
    "def linear_search(arr,ele):\n",
    "    for i in range(0,len(arr)):\n",
    "        if arr[i] == ele:\n",
    "            return i          \n",
    "    return False\n",
    "a = linear_search(arr,ele)\n",
    "print(\"Position:\",a)"
   ]
  },
  {
   "cell_type": "code",
   "execution_count": 67,
   "id": "6d775c2b",
   "metadata": {},
   "outputs": [
    {
     "name": "stdout",
     "output_type": "stream",
     "text": [
      "3\n"
     ]
    }
   ],
   "source": [
    "#Binary Search\n",
    "import math\n",
    "arr=[1,2,3,4,5]\n",
    "ele=3\n",
    "def bin_sea(arr,l,h,key):\n",
    "    if h >= l:\n",
    "        mid = math.floor((l+h)/2)\n",
    "        if(arr[mid]==key):\n",
    "            return mid\n",
    "        elif arr[mid] > key:\n",
    "                 return bin_sea(arr, l, mid-1, key)\n",
    "        else:\n",
    "                 return bin_sea(arr, mid + 1, h, key)\n",
    "    else:\n",
    "        return -1\n",
    "res = bin_sea(arr,0,len(arr)-1,ele)\n",
    "print(res+1)"
   ]
  },
  {
   "cell_type": "code",
   "execution_count": 68,
   "id": "8e3a264f",
   "metadata": {},
   "outputs": [
    {
     "name": "stdout",
     "output_type": "stream",
     "text": [
      "[0, 1, 2, 3, 4, 5]\n"
     ]
    }
   ],
   "source": [
    "#Bubble Sort\n",
    "def bubble(arr):\n",
    "    n=len(arr)\n",
    "    for i in range(n):\n",
    "        for j in range(0,n-i-1):\n",
    "             if arr[j] > arr[j+1] :\n",
    "                arr[j], arr[j+1] = arr[j+1], arr[j]\n",
    "                \n",
    "    return arr\n",
    "res=bubble([5,4,3,2,1,0])\n",
    "print(res)"
   ]
  },
  {
   "cell_type": "code",
   "execution_count": 47,
   "id": "9805095b",
   "metadata": {},
   "outputs": [
    {
     "name": "stdout",
     "output_type": "stream",
     "text": [
      "[22, 10, 18, 5, 6, 7]\n",
      "After Merge Sort\n",
      "[5, 6, 7, 10, 18, 22]\n"
     ]
    }
   ],
   "source": [
    "#merge sort\n",
    "def Merge(arr,l,m,r):\n",
    "    n1 = m - l + 1\n",
    "    n2 = r - m\n",
    "    L = [0] * (n1) \n",
    "    R = [0] * (n2)\n",
    "    for i in range(0, n1):\n",
    "        L[i] = arr[l + i]\n",
    "    for j in range(0, n2):\n",
    "        R[j] = arr[m + 1 + j]\n",
    "    i = 0   \n",
    "    j = 0     \n",
    "    k = l      #merge array size \n",
    "    while i < n1 and j < n2:\n",
    "        if L[i] <= R[j]: # L = 2,3 R = 1  K = 1 2 3\n",
    "            arr[k] = L[i]\n",
    "            i += 1\n",
    "        else:\n",
    "            arr[k] = R[j]\n",
    "            j += 1\n",
    "        k += 1\n",
    "    while i < n1:\n",
    "        arr[k] = L[i]\n",
    "        i += 1\n",
    "        k += 1\n",
    "    while j < n2:\n",
    "        arr[k] = R[j]\n",
    "        j += 1\n",
    "        k += 1\n",
    "def MergeSort(arr,l,r):\n",
    "    if(l<r):  \n",
    "        mid = (l+(r-l)//2)\n",
    "        MergeSort(arr,l,mid)\n",
    "        MergeSort(arr,mid+1,r)\n",
    "        Merge(arr,l,mid,r)\n",
    "arr = [22, 10, 18, 5, 6, 7]\n",
    "print(arr)\n",
    "print(\"After Merge Sort\")\n",
    "MergeSort(arr, 0, len(arr)-1)\n",
    "print(arr)\n",
    "    "
   ]
  },
  {
   "cell_type": "code",
   "execution_count": 56,
   "id": "c9097994",
   "metadata": {},
   "outputs": [
    {
     "name": "stdout",
     "output_type": "stream",
     "text": [
      "[1, 3, 10, 19, 40, 150]\n"
     ]
    }
   ],
   "source": [
    "#Insertion sort\n",
    "arr=[150,3,40,19,10,1]\n",
    "def insertion(arr):\n",
    "    for i in range(1,len(arr)):\n",
    "       \n",
    "        key=arr[i]\n",
    "        for j in range(i-1,-1,-1):\n",
    "            if(key<arr[j]):\n",
    "                arr[j+1]=arr[j]\n",
    "                if(arr[j]>key):\n",
    "                    arr[j]=key\n",
    "    \n",
    "            \n",
    "                \n",
    "                \n",
    "    return arr\n",
    "res=insertion(arr)\n",
    "print(res)"
   ]
  },
  {
   "cell_type": "code",
   "execution_count": 54,
   "id": "0d4ba9a2",
   "metadata": {},
   "outputs": [
    {
     "name": "stdout",
     "output_type": "stream",
     "text": [
      "[1, 3, 10, 19, 40, 150]\n"
     ]
    }
   ],
   "source": [
    "#selction sort\n",
    "arr=[150,3,40,19,10,1]\n",
    "def selection(arr):\n",
    "    for i in range(0,len(arr)):\n",
    "        mini=arr[i]\n",
    "        for j in range(i+1,len(arr)):\n",
    "                if(arr[j]<mini):\n",
    "                    mini=arr[j]\n",
    "                    arr[j],arr[i]=arr[i],arr[j]\n",
    "    return arr\n",
    "res=selection(arr)  \n",
    "print(res)\n",
    "            \n",
    "                "
   ]
  },
  {
   "cell_type": "code",
   "execution_count": 65,
   "id": "f29a4d69",
   "metadata": {},
   "outputs": [
    {
     "name": "stdout",
     "output_type": "stream",
     "text": [
      "Inorder Traversal is \n",
      "6\n",
      "12\n",
      "18\n",
      "19\n",
      "21\n",
      "search present is  False\n"
     ]
    }
   ],
   "source": [
    "## BST creation and inorderTraversal\n",
    "class BST:\n",
    "    def __init__(self,val=None):\n",
    "        self.val=val\n",
    "        self.lchild=None\n",
    "        self.rchild=None\n",
    "    \n",
    "def insert(root, val):\n",
    "        if root is None:\n",
    "            return BST(val)\n",
    "        else:\n",
    "            if root.val == val:\n",
    "                return root\n",
    "            elif val>root.val:\n",
    "                root.rchild = insert(root.rchild, val)\n",
    "            else:\n",
    "                root.lchild = insert(root.lchild, val)\n",
    "        return root\n",
    "def inorder(root):\n",
    "        if root:\n",
    "            inorder(root.lchild)\n",
    "            print(root.val)\n",
    "            inorder(root.rchild)\n",
    "nums = [12, 6, 18, 19, 21]\n",
    "def search(bst,val):\n",
    "    if(bst):\n",
    "        if(bst.val==val):\n",
    "            return True\n",
    "            \n",
    "        elif(val<bst.val):\n",
    "            return search(bst.lchild,val)\n",
    "        else:\n",
    "            return search(bst.rchild,val)\n",
    "    else:\n",
    "        return False\n",
    "\n",
    "        \n",
    "bst = BST(12)\n",
    "for num in nums:\n",
    "    insert(bst,num)\n",
    "result=search(bst,1)\n",
    "print(\"Inorder Traversal is \")\n",
    "inorder(bst)\n",
    "\n",
    "print(\"search present is \",result)"
   ]
  },
  {
   "cell_type": "code",
   "execution_count": 44,
   "id": "e1a2d3ca",
   "metadata": {},
   "outputs": [
    {
     "name": "stdout",
     "output_type": "stream",
     "text": [
      "this is a bag bag\n",
      "bag\n",
      "10\n",
      "14\n"
     ]
    }
   ],
   "source": [
    "#Pattern Matching using naive base\n",
    "stri=input()\n",
    "pattern=input()\n",
    "n=len(stri)\n",
    "m=len(pattern)\n",
    "for i in range(n - m + 1):\n",
    "    j=0;\n",
    "    for j in range(m):\n",
    "        if(pattern[j]!=stri[i+j]):\n",
    "            break\n",
    "        j=j+1\n",
    "            \n",
    "    if(j==m):\n",
    "        print(i)\n",
    "    "
   ]
  },
  {
   "cell_type": "code",
   "execution_count": 24,
   "id": "59216613",
   "metadata": {},
   "outputs": [
    {
     "name": "stdout",
     "output_type": "stream",
     "text": [
      "[0, 1, 2, 3, 4]\n"
     ]
    }
   ],
   "source": [
    "#quicksort\n",
    "arr=[4,3,2,1,0]\n",
    "def partition(arr,low,high):\n",
    "    i=low-1\n",
    "    piv=arr[high]\n",
    "    for j in range(low,high):\n",
    "        if(arr[j]<=piv):\n",
    "            i+=1;\n",
    "            arr[i],arr[j]=arr[j],arr[i]\n",
    "    arr[i+1],arr[high]=arr[high],arr[i+1]\n",
    "    return i+1\n",
    "def quickSort(array, low, high):\n",
    "    if low < high:\n",
    "        pi = partition(array, low, high)\n",
    "        quickSort(array, low, pi - 1)\n",
    "        quickSort(array, pi + 1, high)\n",
    "    return arr\n",
    "    \n",
    "quickSort(arr, 0, len(arr)-1)\n",
    "print(arr)   "
   ]
  },
  {
   "cell_type": "code",
   "execution_count": null,
   "id": "c8818e78",
   "metadata": {},
   "outputs": [],
   "source": []
  }
 ],
 "metadata": {
  "kernelspec": {
   "display_name": "Python 3 (ipykernel)",
   "language": "python",
   "name": "python3"
  },
  "language_info": {
   "codemirror_mode": {
    "name": "ipython",
    "version": 3
   },
   "file_extension": ".py",
   "mimetype": "text/x-python",
   "name": "python",
   "nbconvert_exporter": "python",
   "pygments_lexer": "ipython3",
   "version": "3.8.8"
  }
 },
 "nbformat": 4,
 "nbformat_minor": 5
}
